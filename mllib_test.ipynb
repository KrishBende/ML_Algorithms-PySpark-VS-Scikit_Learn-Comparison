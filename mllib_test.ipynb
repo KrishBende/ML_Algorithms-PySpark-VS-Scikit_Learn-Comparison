{
 "cells": [
  {
   "cell_type": "code",
   "execution_count": 6,
   "id": "d23021ed",
   "metadata": {},
   "outputs": [],
   "source": [
    "import os\n",
    "os.environ['JAVA_HOME'] = '/usr/lib/jvm/java-8-openjdk-amd64'"
   ]
  },
  {
   "cell_type": "code",
   "execution_count": 7,
   "id": "4e765170",
   "metadata": {},
   "outputs": [],
   "source": [
    "from pyspark.sql import SparkSession\n",
    "from pyspark.ml.feature import VectorAssembler\n",
    "from pyspark.ml.classification import LogisticRegression, DecisionTreeClassifier, LinearSVC, NaiveBayes, RandomForestClassifier\n",
    "from pyspark.ml.evaluation import MulticlassClassificationEvaluator\n",
    "from pyspark.ml.feature import StandardScaler"
   ]
  },
  {
   "cell_type": "code",
   "execution_count": null,
   "id": "87ed14cf",
   "metadata": {},
   "outputs": [
    {
     "name": "stderr",
     "output_type": "stream",
     "text": [
      "                                                                                \r"
     ]
    },
    {
     "name": "stdout",
     "output_type": "stream",
     "text": [
      "Logistic Regression - Income Prediction Accuracy: 0.8225034727581417\n"
     ]
    },
    {
     "name": "stderr",
     "output_type": "stream",
     "text": [
      "                                                                                \r"
     ]
    },
    {
     "name": "stdout",
     "output_type": "stream",
     "text": [
      "Decision Tree - Income Prediction Accuracy: 0.8407161599012193\n"
     ]
    },
    {
     "name": "stderr",
     "output_type": "stream",
     "text": [
      "                                                                                \r"
     ]
    },
    {
     "name": "stdout",
     "output_type": "stream",
     "text": [
      "SVM - Income Prediction Accuracy: 0.8106189226732521\n"
     ]
    },
    {
     "name": "stderr",
     "output_type": "stream",
     "text": [
      "                                                                                \r"
     ]
    },
    {
     "name": "stdout",
     "output_type": "stream",
     "text": [
      "Naive Bayes - Income Prediction Accuracy: 0.7907084426609045\n"
     ]
    },
    {
     "name": "stderr",
     "output_type": "stream",
     "text": [
      "                                                                                \r"
     ]
    },
    {
     "name": "stdout",
     "output_type": "stream",
     "text": [
      "Random Forest - Income Prediction Accuracy: 0.8388640222256522\n",
      "KNN - Income Prediction Accuracy: 0.75 (approximated)\n"
     ]
    }
   ],
   "source": [
    "spark = SparkSession.builder \\\n",
    "    .appName(\"AdultDatasetAllModels\") \\\n",
    "    .getOrCreate()\n",
    "\n",
    "# Load data\n",
    "df = spark.read.csv(\"data/encoded_adult.csv\", header=True, inferSchema=True)\n",
    "input_features=['age', 'workclass', 'fnlwgt', 'education', 'education_num', 'marital_status', 'occupation', 'relationship', 'race', 'sex', 'capital_gain', 'capital_loss', 'hours_per_week', 'native_country']\n",
    "assembler = VectorAssembler(\n",
    "    inputCols=input_features,\n",
    "    outputCol='output_income'\n",
    ")\n",
    "df_assembled = assembler.transform(df)\n",
    "train_data, test_data = df_assembled.randomSplit([0.8, 0.2], seed=42)\n",
    "\n",
    "# Logistic Regression\n",
    "lr = LogisticRegression(featuresCol='output_income', labelCol=\"income\", maxIter=1000)\n",
    "lr_model = lr.fit(train_data)\n",
    "predictions = lr_model.transform(test_data)\n",
    "evaluator = MulticlassClassificationEvaluator(\n",
    "    labelCol=\"income\",\n",
    "    predictionCol=\"prediction\",\n",
    "    metricName=\"accuracy\"\n",
    ")\n",
    "accuracy = evaluator.evaluate(predictions)\n",
    "print(f\"Logistic Regression - Income Prediction Accuracy: {accuracy}\")\n",
    "\n",
    "# Decision Tree\n",
    "dt = DecisionTreeClassifier(featuresCol='output_income', labelCol=\"income\")\n",
    "dt_model = dt.fit(train_data)\n",
    "predictions = dt_model.transform(test_data)\n",
    "accuracy = evaluator.evaluate(predictions)\n",
    "print(f\"Decision Tree - Income Prediction Accuracy: {accuracy}\")\n",
    "\n",
    "# SVM with scaling\n",
    "scaler = StandardScaler(inputCol=\"output_income\", outputCol=\"scaled_output_income\")\n",
    "scalerModel = scaler.fit(df_assembled)\n",
    "df_scaled = scalerModel.transform(df_assembled)\n",
    "train_data_scaled, test_data_scaled = df_scaled.randomSplit([0.8, 0.2], seed=42)\n",
    "svm = LinearSVC(featuresCol='scaled_output_income', labelCol=\"income\", maxIter=1000)\n",
    "svm_model = svm.fit(train_data_scaled)\n",
    "predictions = svm_model.transform(test_data_scaled)\n",
    "accuracy = evaluator.evaluate(predictions)\n",
    "print(f\"SVM - Income Prediction Accuracy: {accuracy}\")\n",
    "\n",
    "# Naive Bayes with scaling\n",
    "nb = NaiveBayes(featuresCol='scaled_output_income', labelCol=\"income\")\n",
    "nb_model = nb.fit(train_data_scaled)\n",
    "predictions = nb_model.transform(test_data_scaled)\n",
    "accuracy = evaluator.evaluate(predictions)\n",
    "print(f\"Naive Bayes - Income Prediction Accuracy: {accuracy}\")\n",
    "\n",
    "# Random Forest\n",
    "rf = RandomForestClassifier(featuresCol='output_income', labelCol=\"income\")\n",
    "rf_model = rf.fit(train_data)\n",
    "predictions = rf_model.transform(test_data)\n",
    "accuracy = evaluator.evaluate(predictions)\n",
    "print(f\"Random Forest - Income Prediction Accuracy: {accuracy}\")\n",
    "\n",
    "spark.stop()"
   ]
  },
  {
   "cell_type": "code",
   "execution_count": 9,
   "id": "a68808d3",
   "metadata": {},
   "outputs": [
    {
     "name": "stderr",
     "output_type": "stream",
     "text": [
      "                                                                                \r"
     ]
    },
    {
     "name": "stdout",
     "output_type": "stream",
     "text": [
      "Logistic Regression - Spotify Churn Prediction Accuracy: 0.7515883100381194\n",
      "Decision Tree - Spotify Churn Prediction Accuracy: 0.7490470139771284\n",
      "SVM - Spotify Churn Prediction Accuracy: 0.7515883100381194\n",
      "Naive Bayes - Spotify Churn Prediction Accuracy: 0.7515883100381194\n",
      "Random Forest - Spotify Churn Prediction Accuracy: 0.7515883100381194\n"
     ]
    }
   ],
   "source": [
    "spark = SparkSession.builder \\\n",
    "    .appName(\"SpotifyChurnDatasetAllModels\") \\\n",
    "    .getOrCreate()\n",
    "\n",
    "# Load data\n",
    "df = spark.read.csv(\"data/encoded_spotify_churn_dataset.csv\", header=True, inferSchema=True)\n",
    "input_features=['gender','age','country','subscription_type','listening_time','songs_played_per_day','skip_rate','device_type','ads_listened_per_week','offline_listening']\n",
    "assembler = VectorAssembler(\n",
    "    inputCols=input_features,\n",
    "    outputCol='output_churned'\n",
    ")\n",
    "df_assembled = assembler.transform(df)\n",
    "train_data, test_data = df_assembled.randomSplit([0.8, 0.2], seed=42)\n",
    "\n",
    "# Logistic Regression\n",
    "lr = LogisticRegression(featuresCol='output_churned', labelCol=\"is_churned\", maxIter=1000)\n",
    "lr_model = lr.fit(train_data)\n",
    "predictions = lr_model.transform(test_data)\n",
    "evaluator = MulticlassClassificationEvaluator(\n",
    "    labelCol=\"is_churned\",\n",
    "    predictionCol=\"prediction\",\n",
    "    metricName=\"accuracy\"\n",
    ")\n",
    "accuracy = evaluator.evaluate(predictions)\n",
    "print(f\"Logistic Regression - Spotify Churn Prediction Accuracy: {accuracy}\")\n",
    "\n",
    "# Decision Tree\n",
    "dt = DecisionTreeClassifier(featuresCol='output_churned', labelCol=\"is_churned\")\n",
    "dt_model = dt.fit(train_data)\n",
    "predictions = dt_model.transform(test_data)\n",
    "accuracy = evaluator.evaluate(predictions)\n",
    "print(f\"Decision Tree - Spotify Churn Prediction Accuracy: {accuracy}\")\n",
    "\n",
    "# SVM with scaling\n",
    "scaler = StandardScaler(inputCol=\"output_churned\", outputCol=\"scaled_output_churned\")\n",
    "scalerModel = scaler.fit(df_assembled)\n",
    "df_scaled = scalerModel.transform(df_assembled)\n",
    "train_data_scaled, test_data_scaled = df_scaled.randomSplit([0.8, 0.2], seed=42)\n",
    "svm = LinearSVC(featuresCol='scaled_output_churned', labelCol=\"is_churned\", maxIter=1000)\n",
    "svm_model = svm.fit(train_data_scaled)\n",
    "predictions = svm_model.transform(test_data_scaled)\n",
    "accuracy = evaluator.evaluate(predictions)\n",
    "print(f\"SVM - Spotify Churn Prediction Accuracy: {accuracy}\")\n",
    "\n",
    "# Naive Bayes with scaling\n",
    "nb = NaiveBayes(featuresCol='scaled_output_churned', labelCol=\"is_churned\")\n",
    "nb_model = nb.fit(train_data_scaled)\n",
    "predictions = nb_model.transform(test_data_scaled)\n",
    "accuracy = evaluator.evaluate(predictions)\n",
    "print(f\"Naive Bayes - Spotify Churn Prediction Accuracy: {accuracy}\")\n",
    "\n",
    "# Random Forest\n",
    "rf = RandomForestClassifier(featuresCol='output_churned', labelCol=\"is_churned\")\n",
    "rf_model = rf.fit(train_data)\n",
    "predictions = rf_model.transform(test_data)\n",
    "accuracy = evaluator.evaluate(predictions)\n",
    "print(f\"Random Forest - Spotify Churn Prediction Accuracy: {accuracy}\")\n",
    "\n",
    "spark.stop()"
   ]
  },
  {
   "cell_type": "code",
   "execution_count": 10,
   "id": "395d42c6",
   "metadata": {},
   "outputs": [
    {
     "name": "stderr",
     "output_type": "stream",
     "text": [
      "                                                                                \r"
     ]
    },
    {
     "name": "stdout",
     "output_type": "stream",
     "text": [
      "Logistic Regression - College Placement Prediction Accuracy: 0.9\n",
      "Decision Tree - College Placement Prediction Accuracy: 0.9958974358974358\n",
      "SVM - College Placement Prediction Accuracy: 0.901025641025641\n",
      "Naive Bayes - College Placement Prediction Accuracy: 0.84\n",
      "Random Forest - College Placement Prediction Accuracy: 0.9805128205128205\n"
     ]
    }
   ],
   "source": [
    "spark = SparkSession.builder \\\n",
    "    .appName(\"CollegePlacementDatasetAllModels\") \\\n",
    "    .getOrCreate()\n",
    "\n",
    "# Load data\n",
    "df = spark.read.csv(\"data/encoded_college_placement.csv\", header=True, inferSchema=True)\n",
    "input_features=['College_ID','IQ','Prev_Sem_Result','CGPA','Academic_Performance','Internship_Experience','Extra_Curricular_Score','Communication_Skills','Projects_Completed']\n",
    "assembler = VectorAssembler(\n",
    "    inputCols=input_features,\n",
    "    outputCol='output_Placement'\n",
    ")\n",
    "df_assembled = assembler.transform(df)\n",
    "train_data, test_data = df_assembled.randomSplit([0.8, 0.2], seed=42)\n",
    "\n",
    "# Logistic Regression\n",
    "lr = LogisticRegression(featuresCol='output_Placement', labelCol=\"Placement\", maxIter=1000)\n",
    "lr_model = lr.fit(train_data)\n",
    "predictions = lr_model.transform(test_data)\n",
    "evaluator = MulticlassClassificationEvaluator(\n",
    "    labelCol=\"Placement\",\n",
    "    predictionCol=\"prediction\",\n",
    "    metricName=\"accuracy\"\n",
    ")\n",
    "accuracy = evaluator.evaluate(predictions)\n",
    "print(f\"Logistic Regression - College Placement Prediction Accuracy: {accuracy}\")\n",
    "\n",
    "# Decision Tree\n",
    "dt = DecisionTreeClassifier(featuresCol='output_Placement', labelCol=\"Placement\")\n",
    "dt_model = dt.fit(train_data)\n",
    "predictions = dt_model.transform(test_data)\n",
    "accuracy = evaluator.evaluate(predictions)\n",
    "print(f\"Decision Tree - College Placement Prediction Accuracy: {accuracy}\")\n",
    "\n",
    "# SVM with scaling\n",
    "scaler = StandardScaler(inputCol=\"output_Placement\", outputCol=\"scaled_output_Placement\")\n",
    "scalerModel = scaler.fit(df_assembled)\n",
    "df_scaled = scalerModel.transform(df_assembled)\n",
    "train_data_scaled, test_data_scaled = df_scaled.randomSplit([0.8, 0.2], seed=42)\n",
    "svm = LinearSVC(featuresCol='scaled_output_Placement', labelCol=\"Placement\", maxIter=1000)\n",
    "svm_model = svm.fit(train_data_scaled)\n",
    "predictions = svm_model.transform(test_data_scaled)\n",
    "accuracy = evaluator.evaluate(predictions)\n",
    "print(f\"SVM - College Placement Prediction Accuracy: {accuracy}\")\n",
    "\n",
    "# Naive Bayes with scaling\n",
    "nb = NaiveBayes(featuresCol='scaled_output_Placement', labelCol=\"Placement\")\n",
    "nb_model = nb.fit(train_data_scaled)\n",
    "predictions = nb_model.transform(test_data_scaled)\n",
    "accuracy = evaluator.evaluate(predictions)\n",
    "print(f\"Naive Bayes - College Placement Prediction Accuracy: {accuracy}\")\n",
    "\n",
    "# Random Forest\n",
    "rf = RandomForestClassifier(featuresCol='output_Placement', labelCol=\"Placement\")\n",
    "rf_model = rf.fit(train_data)\n",
    "predictions = rf_model.transform(test_data)\n",
    "accuracy = evaluator.evaluate(predictions)\n",
    "print(f\"Random Forest - College Placement Prediction Accuracy: {accuracy}\")\n",
    "\n",
    "spark.stop()"
   ]
  },
  {
   "cell_type": "code",
   "execution_count": null,
   "id": "b00a3870",
   "metadata": {},
   "outputs": [],
   "source": []
  }
 ],
 "metadata": {
  "kernelspec": {
   "display_name": "venv_py3.7",
   "language": "python",
   "name": "python3"
  },
  "language_info": {
   "codemirror_mode": {
    "name": "ipython",
    "version": 3
   },
   "file_extension": ".py",
   "mimetype": "text/x-python",
   "name": "python",
   "nbconvert_exporter": "python",
   "pygments_lexer": "ipython3",
   "version": "3.7.17"
  }
 },
 "nbformat": 4,
 "nbformat_minor": 5
}
